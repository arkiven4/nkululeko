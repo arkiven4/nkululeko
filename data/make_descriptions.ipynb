{
 "cells": [
  {
   "cell_type": "code",
   "execution_count": 10,
   "metadata": {},
   "outputs": [],
   "source": [
    "#!pip install pyyaml\n",
    "import yaml\n",
    "import audeer\n",
    "import os"
   ]
  },
  {
   "cell_type": "code",
   "execution_count": 26,
   "metadata": {},
   "outputs": [],
   "source": [
    "db_list = (\n",
    "(\"aesdd\",\"emotion\",\"public\",\"amhariclanguage\"),\n",
    "(\"androids\",\"depression\",\"public\",\"English\"),\n",
    "(\"ased\",\"emotion\",\"public\",\"Greek\"),\n",
    "(\"asvp-esd\",\"emotion\",\"public\",\"Multilingual,alsocontainvocalbursts\"),\n",
    "(\"baved\",\"emotion\",\"public\",\"Arabic\"),\n",
    "(\"cafe\",\"emotion\",\"public\",\"Childrenspeech,CanadianFrench\"),\n",
    "(\"cmu-mosei\",\"sentiment,emotion\",\"public\",\"English,originallinkdead\"),\n",
    "(\"crema-d\",\"emotion\",\"public\",\"English,adoptedfromtfds\"),\n",
    "(\"demos\",\"emotion\",\"restricted\",\"Italian\"),\n",
    "(\"ekorpus\",\"emotion\",\"public\",\"Estonian\"),\n",
    "(\"emns\",\"emotion,intensity\",\"public\",\"British,singlespeaker,UAR=0.479\"),\n",
    "(\"emodb\",\"emotion\",\"public\",\"German\"),\n",
    "(\"emofilm\",\"emotion\",\"restricted\",\"English,Spanish,Italian\"),\n",
    "(\"emorynlp\",\"emotion\",\"public\",\"English,FromFriendsTV\"),\n",
    "(\"emov-db\",\"emotion\",\"public\",\"English\"),\n",
    "(\"emovo\",\"emotion\",\"restricted\",\"Italian\"),\n",
    "(\"emozionalmente\",\"emotion\",\"public\",\"Italian\"),\n",
    "(\"enterface\",\"emotion\",\"public\",\"Multilingual\"),\n",
    "(\"esd\",\"emotion\",\"public\",\"English,Chinese\"),\n",
    "(\"iemocap\",\"emotion,VAD\",\"restriced\",\"English\"),\n",
    "(\"jl\",\"emotion\",\"public\",\"English\"),\n",
    "(\"jtes\",\"emotion\",\"private\",\"Japanese\"),\n",
    "(\"laughter-types\",\"laughter\",\"public\",\"MasterThesisfromTUBerlin\"),\n",
    "(\"meld\",\"emotion\",\"public\",\"English,FromFriendsTV\"),\n",
    "(\"mesd\",\"emotion\",\"public\",\"Mexican\"),\n",
    "(\"mess\",\"emotion\",\"public\",\"English\"),\n",
    "(\"mlendsnd\",\"emotion\",\"public\",\"English\"),\n",
    "(\"msp-improv\",\"emotion,VAD,naturalness\",\"restricted\",\"English\"),\n",
    "(\"msp-podcast\",\"emotion,VAD\",\"restricted\",\"English\"),\n",
    "(\"oreau2\",\"emotion\",\"public\",\"French\"),\n",
    "(\"portuguese\",\"emotion\",\"public\",\"Portuguese\"),\n",
    "(\"ravdess\",\"emotion,speaker\",\"public\",\"English\"),\n",
    "(\"savee\",\"emotion\",\"restricted\",\"English,fromtfds\"),\n",
    "(\"shemo\",\"emotion\",\"public\",\"Persian\"),\n",
    "(\"subesco\",\"emotion\",\"public\",\"Bangla\"),\n",
    "(\"syntact\",\"emotion\",\"public\",\"SynthesizedGermanspeech\"),\n",
    "(\"tess\",\"emotion\",\"public\",\"BritishEnglish(Toronto)\"),\n",
    "(\"thorsten-emotional\",\"emotion\",\"public\",\"German\"),\n",
    "(\"urdu\",\"emotion\",\"public\",\"Urdu\"),\n",
    "(\"vivae\",\"emotion\",\"public\",\"Englishvocalbursts\"),\n",
    "(\"clac\",\"healthyspeech,age,gender\",\"public\",\"English\"),\n",
    "(\"gerparas\",\"valence,arousal,dominance\",\"restricted\",\"German\"),\n",
    "(\"SVD\",\"pathologicalspeech\",\"public\",\"German\"),\n",
    "(\"nEMO\",\"emotion,VAD\",\"public\",\"Polish\"),\n",
    "#(\"emoUERJ\",\"emotion\",\"public\",\"Portuguese\"),\n",
    "#(\"TTH\",\"emotion\",\"public\",\"Vietnamese\"),\n",
    "(\"jnv\",\"emotion\",\"public\",\"Japanese,non-verbals\"),\n",
    "(\"jvnv\",\"emotion\",\"public\",\"Japanese,verbalandnon-verbal\"),\n",
    "(\"kbes\",\"emotion\",\"public\",\"Bengali\"),\n",
    "(\"eaed\",\"emotion\",\"public\",\"Arabic\"),\n",
    "(\"banglaser\",\"emotion\",\"public\",\"Bengali\"),\n",
    "(\"kia\",\"emotion\",\"public\",\"Korean,wake-upword\"),\n",
    "(\"polish\",\"emotion\",\"public\",\"Polish\"),\n",
    "(\"erysac\",\"emotion\",\"public\",\"Russian,children\"),\n",
    "(\"turev\",\"emotion\",\"public\",\"Turkish\"),\n",
    ")"
   ]
  },
  {
   "cell_type": "code",
   "execution_count": 27,
   "metadata": {},
   "outputs": [],
   "source": [
    "for db in db_list:\n",
    "    name = db[0]\n",
    "    dic = {\"name\":name,\n",
    "    \"target\":db[1],\n",
    "    \"access\":db[2],\n",
    "    \"descr\":db[3],}\n",
    "    #dir = f'../tmp/{name}'\n",
    "    #audeer.mkdir(dir)\n",
    "    dir = name.lower()\n",
    "    fname =  os.path.join(dir, \"descr.yml\")\n",
    "    with open(fname, 'w') as outfile:\n",
    "        yaml.dump(dic, outfile, default_flow_style=False)    "
   ]
  },
  {
   "cell_type": "code",
   "execution_count": null,
   "metadata": {},
   "outputs": [],
   "source": []
  }
 ],
 "metadata": {
  "kernelspec": {
   "display_name": "venv",
   "language": "python",
   "name": "python3"
  },
  "language_info": {
   "codemirror_mode": {
    "name": "ipython",
    "version": 3
   },
   "file_extension": ".py",
   "mimetype": "text/x-python",
   "name": "python",
   "nbconvert_exporter": "python",
   "pygments_lexer": "ipython3",
   "version": "3.10.14"
  }
 },
 "nbformat": 4,
 "nbformat_minor": 2
}
